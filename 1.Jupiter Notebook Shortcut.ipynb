{
 "cells": [
  {
   "cell_type": "markdown",
   "metadata": {},
   "source": [
    "## Jupiter Command Shortcut\n",
    "\n",
    "**a**            : to add new cell above  \n",
    "**b**            : to add new cell below  \n",
    "**dd**           : delete current cell  \n",
    "**y**            : change cell to python  \n",
    "**m**            : change cell to markdown  \n",
    "**enter**        : edit cell  \n",
    "**esc**          : exit edit cell  \n",
    "**ctrl + enter** : run Selected Cell  \n",
    "**shift + enter**: run cell, select below  \n",
    "**alt + enter**  : run cell and insert a cell below  \n",
    "\n",
    "**ctrl + A**     : select all cells  \n",
    "**x**            : cut cell  \n",
    "**c**            : copy cell  \n",
    "**v**            : paste cell below  \n",
    "**shift + v**    : paste cell above  \n",
    "**shift + merge**: merge selected cells  \n",
    "**ctrl + /**     : turn markdown or code into comment  \n",
    "**tab**          : indent  \n",
    "**shift + tab**  : dedent  \n",
    "**ctrl + d**     : delete whole line  \n",
    "**z**            : undo command  "
   ]
  }
 ],
 "metadata": {
  "kernelspec": {
   "display_name": "Python 3",
   "language": "python",
   "name": "python3"
  },
  "language_info": {
   "codemirror_mode": {
    "name": "ipython",
    "version": 3
   },
   "file_extension": ".py",
   "mimetype": "text/x-python",
   "name": "python",
   "nbconvert_exporter": "python",
   "pygments_lexer": "ipython3",
   "version": "3.11.1"
  }
 },
 "nbformat": 4,
 "nbformat_minor": 2
}
